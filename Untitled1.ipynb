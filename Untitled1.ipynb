{
  "nbformat": 4,
  "nbformat_minor": 0,
  "metadata": {
    "colab": {
      "name": "Untitled1.ipynb",
      "provenance": [],
      "collapsed_sections": [],
      "toc_visible": true,
      "authorship_tag": "ABX9TyMWD2gyxRi9cnpPJRnmgqlz",
      "include_colab_link": true
    },
    "kernelspec": {
      "name": "python3",
      "display_name": "Python 3"
    },
    "language_info": {
      "name": "python"
    }
  },
  "cells": [
    {
      "cell_type": "markdown",
      "metadata": {
        "id": "view-in-github",
        "colab_type": "text"
      },
      "source": [
        "<a href=\"https://colab.research.google.com/github/lucerogr/FileExplorerUPC/blob/master/Untitled1.ipynb\" target=\"_parent\"><img src=\"https://colab.research.google.com/assets/colab-badge.svg\" alt=\"Open In Colab\"/></a>"
      ]
    },
    {
      "cell_type": "markdown",
      "metadata": {
        "id": "Q3s5Naq_WmRc"
      },
      "source": [
        "# Colecciones\n",
        "arreglo siempre estaba en un espacio de memoria determinado y listas apuntaba a diferentes espacios de memoria"
      ]
    },
    {
      "cell_type": "markdown",
      "metadata": {
        "id": "AVD7uBgcWwoQ"
      },
      "source": [
        "## Listas\n",
        "Comumente conocidas como arreglos en otros lenguajes"
      ]
    },
    {
      "cell_type": "code",
      "metadata": {
        "colab": {
          "base_uri": "https://localhost:8080/"
        },
        "id": "OcCm6GN8WrRz",
        "outputId": "4d63cf41-c92a-4d12-f8ef-8b0fa1632fc7"
      },
      "source": [
        "a1 = [1,2,3,4,5]\n",
        "a1.append(5)\n",
        "a1.append(10)\n",
        "a1"
      ],
      "execution_count": null,
      "outputs": [
        {
          "output_type": "execute_result",
          "data": {
            "text/plain": [
              "[1, 2, 3, 4, 5, 5, 10]"
            ]
          },
          "metadata": {
            "tags": []
          },
          "execution_count": 3
        }
      ]
    },
    {
      "cell_type": "code",
      "metadata": {
        "colab": {
          "base_uri": "https://localhost:8080/"
        },
        "id": "E14-tCVRXxsf",
        "outputId": "cb42490c-fb01-4d98-80c4-0f209ced1db3"
      },
      "source": [
        "a2 = [1, \"dos\", 3.4]\n",
        "a2"
      ],
      "execution_count": null,
      "outputs": [
        {
          "output_type": "execute_result",
          "data": {
            "text/plain": [
              "[1, 'dos', 3.4]"
            ]
          },
          "metadata": {
            "tags": []
          },
          "execution_count": 9
        }
      ]
    },
    {
      "cell_type": "markdown",
      "metadata": {
        "id": "DQIRmynvW2gf"
      },
      "source": [
        "# Sets\n",
        "No tienen elementos repetidos"
      ]
    },
    {
      "cell_type": "code",
      "metadata": {
        "id": "qU-F1astW6Ym"
      },
      "source": [
        "s1 = {1, 2, 3, 4}"
      ],
      "execution_count": null,
      "outputs": []
    },
    {
      "cell_type": "code",
      "metadata": {
        "colab": {
          "base_uri": "https://localhost:8080/"
        },
        "id": "UigcrCBJXISJ",
        "outputId": "c4df5e20-44ab-4597-9c45-13af90939547"
      },
      "source": [
        "s1.add(3)\n",
        "s1.add(10)\n",
        "print(s1)"
      ],
      "execution_count": null,
      "outputs": [
        {
          "output_type": "stream",
          "text": [
            "{1, 2, 3, 4, 10}\n"
          ],
          "name": "stdout"
        }
      ]
    },
    {
      "cell_type": "markdown",
      "metadata": {
        "id": "dvc9mp4TX_wX"
      },
      "source": [
        "# Estructuras de control\n",
        "Condicionales"
      ]
    },
    {
      "cell_type": "code",
      "metadata": {
        "colab": {
          "base_uri": "https://localhost:8080/"
        },
        "id": "u7xGmDYrYDey",
        "outputId": "c1cb3269-ca64-41f9-be33-10936a1e8184"
      },
      "source": [
        "if a2[0] == 1:\n",
        "    print(\":)\")"
      ],
      "execution_count": null,
      "outputs": [
        {
          "output_type": "stream",
          "text": [
            ":)\n"
          ],
          "name": "stdout"
        }
      ]
    },
    {
      "cell_type": "code",
      "metadata": {
        "colab": {
          "base_uri": "https://localhost:8080/"
        },
        "id": "WJd876pxYOiK",
        "outputId": "eb54bc8b-997d-421e-a080-7dd4495385d2"
      },
      "source": [
        "a = 5\n",
        "\n",
        "if a < 2:\n",
        "    print(\":)\")\n",
        "    print(\"menor a 2\") \n",
        "elif a < 4:\n",
        "    print(\":|\")\n",
        "    print(\"menor a 4\")\n",
        "elif a < 6:\n",
        "    print(\":o\")\n",
        "    print(\"menor a 6\")\n",
        "else:\n",
        "    print(\":(\")\n",
        "    print(\"Ya que queda!\")\n",
        "\n",
        "print(\"Felicidad\")"
      ],
      "execution_count": null,
      "outputs": [
        {
          "output_type": "stream",
          "text": [
            ":o\n",
            "menor a 6\n",
            "Felicidad\n"
          ],
          "name": "stdout"
        }
      ]
    },
    {
      "cell_type": "markdown",
      "metadata": {
        "id": "dt3v8tXOZPrd"
      },
      "source": [
        "Repetitivas"
      ]
    },
    {
      "cell_type": "code",
      "metadata": {
        "colab": {
          "base_uri": "https://localhost:8080/"
        },
        "id": "uM0Ge1tUZSP5",
        "outputId": "f0f9ec43-3756-45c6-cbd8-ac0b2ec125f5"
      },
      "source": [
        "while a > 0:\n",
        "    print(a)\n",
        "    a-=1"
      ],
      "execution_count": null,
      "outputs": [
        {
          "output_type": "stream",
          "text": [
            "5\n",
            "4\n",
            "3\n",
            "2\n",
            "1\n"
          ],
          "name": "stdout"
        }
      ]
    },
    {
      "cell_type": "code",
      "metadata": {
        "colab": {
          "base_uri": "https://localhost:8080/"
        },
        "id": "ynTxdauNZhMO",
        "outputId": "a39aa745-2e92-491c-a398-6919c008a04d"
      },
      "source": [
        "for i in range(10):\n",
        "    print(i)"
      ],
      "execution_count": null,
      "outputs": [
        {
          "output_type": "stream",
          "text": [
            "0\n",
            "1\n",
            "2\n",
            "3\n",
            "4\n",
            "5\n",
            "6\n",
            "7\n",
            "8\n",
            "9\n"
          ],
          "name": "stdout"
        }
      ]
    },
    {
      "cell_type": "code",
      "metadata": {
        "colab": {
          "base_uri": "https://localhost:8080/"
        },
        "id": "Fbl4iJ3TZlsO",
        "outputId": "0e4bfb18-8dfd-46f4-e3fc-8b6d44d00714"
      },
      "source": [
        "for i in range(3, 10):\n",
        "    print(i)"
      ],
      "execution_count": null,
      "outputs": [
        {
          "output_type": "stream",
          "text": [
            "3\n",
            "4\n",
            "5\n",
            "6\n",
            "7\n",
            "8\n",
            "9\n"
          ],
          "name": "stdout"
        }
      ]
    },
    {
      "cell_type": "code",
      "metadata": {
        "colab": {
          "base_uri": "https://localhost:8080/"
        },
        "id": "clai9NdRZuDM",
        "outputId": "61dfa6d6-f2c5-454b-bac3-1928541a5412"
      },
      "source": [
        "for i in range(0, 1000, 100):\n",
        "    print(i)"
      ],
      "execution_count": null,
      "outputs": [
        {
          "output_type": "stream",
          "text": [
            "0\n",
            "100\n",
            "200\n",
            "300\n",
            "400\n",
            "500\n",
            "600\n",
            "700\n",
            "800\n",
            "900\n"
          ],
          "name": "stdout"
        }
      ]
    },
    {
      "cell_type": "code",
      "metadata": {
        "colab": {
          "base_uri": "https://localhost:8080/"
        },
        "id": "4ZKCjg-4Z0lW",
        "outputId": "52465bcc-a446-44ec-cb68-b76dcc2e0261"
      },
      "source": [
        "for elem in a1:\n",
        "    print(elem)"
      ],
      "execution_count": null,
      "outputs": [
        {
          "output_type": "stream",
          "text": [
            "1\n",
            "2\n",
            "3\n",
            "4\n",
            "5\n",
            "5\n",
            "10\n"
          ],
          "name": "stdout"
        }
      ]
    },
    {
      "cell_type": "code",
      "metadata": {
        "colab": {
          "base_uri": "https://localhost:8080/"
        },
        "id": "SXEUQrxkZ58l",
        "outputId": "2662b87b-7bd0-4f2b-915f-aae68007f1a3"
      },
      "source": [
        "for elem in a2:\n",
        "    print(elem)"
      ],
      "execution_count": null,
      "outputs": [
        {
          "output_type": "stream",
          "text": [
            "1\n",
            "dos\n",
            "3.4\n"
          ],
          "name": "stdout"
        }
      ]
    },
    {
      "cell_type": "code",
      "metadata": {
        "colab": {
          "base_uri": "https://localhost:8080/"
        },
        "id": "1-MzKRK9Z9b1",
        "outputId": "7a6680f6-0ae2-451b-f373-554972feb592"
      },
      "source": [
        "a3 = [i for i in range(2, 100, 2)]\n",
        "print(a3)"
      ],
      "execution_count": null,
      "outputs": [
        {
          "output_type": "stream",
          "text": [
            "[2, 4, 6, 8, 10, 12, 14, 16, 18, 20, 22, 24, 26, 28, 30, 32, 34, 36, 38, 40, 42, 44, 46, 48, 50, 52, 54, 56, 58, 60, 62, 64, 66, 68, 70, 72, 74, 76, 78, 80, 82, 84, 86, 88, 90, 92, 94, 96, 98]\n"
          ],
          "name": "stdout"
        }
      ]
    },
    {
      "cell_type": "code",
      "metadata": {
        "id": "b7vvPhHCaLIK"
      },
      "source": [
        ""
      ],
      "execution_count": null,
      "outputs": []
    }
  ]
}